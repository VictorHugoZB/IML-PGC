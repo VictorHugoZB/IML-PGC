{
 "cells": [
  {
   "cell_type": "code",
   "execution_count": 3,
   "metadata": {},
   "outputs": [],
   "source": [
    "import pandas as pd\n",
    "from sklearn.preprocessing import OneHotEncoder\n",
    "from sklearn.compose import make_column_transformer"
   ]
  },
  {
   "cell_type": "code",
   "execution_count": 4,
   "metadata": {},
   "outputs": [],
   "source": [
    "labels = [\n",
    "  'age',\n",
    "  'workclass',\n",
    "  'fnlwgt',\n",
    "  'education',\n",
    "  'education-num',\n",
    "  'marital-status',\n",
    "  'occupation',\n",
    "  'relationship',\n",
    "  'race',\n",
    "  'sex',\n",
    "  'capital-gain',\n",
    "  'capital-loss',\n",
    "  'hours-per-week',\n",
    "  'native-country',\n",
    "  'salary'\n",
    "]\n",
    "\n",
    "df = pd.read_csv('./salary.data', sep=', ', header=None, engine=\"python\", names=labels)\n",
    "\n",
    "transformer = make_column_transformer(\n",
    "    (OneHotEncoder(sparse_output=False), ['workclass', 'education', 'marital-status', 'occupation', 'relationship', 'race', 'sex', 'native-country']),\n",
    "    remainder='passthrough',\n",
    ")\n",
    "\n",
    "transformed = transformer.fit_transform(df)\n",
    "transformed_labels = transformer.get_feature_names_out()\n",
    "formatted_labels = [label.split('__')[1] for label in transformed_labels]\n",
    "df = pd.DataFrame(transformed, columns=formatted_labels)\n",
    "df.to_csv('./salary.csv', index=False, encoding='utf-8')"
   ]
  }
 ],
 "metadata": {
  "kernelspec": {
   "display_name": "ml",
   "language": "python",
   "name": "python3"
  },
  "language_info": {
   "codemirror_mode": {
    "name": "ipython",
    "version": 3
   },
   "file_extension": ".py",
   "mimetype": "text/x-python",
   "name": "python",
   "nbconvert_exporter": "python",
   "pygments_lexer": "ipython3",
   "version": "3.11.7"
  }
 },
 "nbformat": 4,
 "nbformat_minor": 2
}
