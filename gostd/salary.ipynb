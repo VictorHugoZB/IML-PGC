{
 "cells": [
  {
   "cell_type": "code",
   "execution_count": 5,
   "metadata": {},
   "outputs": [],
   "source": [
    "# o código do gosdt usa várias funções antigas do sklearn,\n",
    "# gerando muitas notificações; vamos desligar os warnings\n",
    "# para 'limpar' a saída dessas mensagens\n",
    "import warnings\n",
    "warnings.filterwarnings('ignore')"
   ]
  },
  {
   "cell_type": "code",
   "execution_count": 6,
   "metadata": {},
   "outputs": [],
   "source": [
    "import pandas as pd\n",
    "import numpy as np\n",
    "import pathlib\n",
    "from sklearn.ensemble import GradientBoostingClassifier\n",
    "from sklearn.model_selection import train_test_split\n",
    "# Alteração - correção dos nomes de pacotes\n",
    "from gosdt.model.threshold_guess import compute_thresholds, cut\n",
    "from gosdt import GOSDT\n",
    "import joblib\n",
    "import random"
   ]
  },
  {
   "cell_type": "code",
   "execution_count": 7,
   "metadata": {},
   "outputs": [],
   "source": [
    "# Fixando seed para replicabilidade\n",
    "random_state = 42\n",
    "np.random.seed(random_state)\n",
    "random.seed(random_state)"
   ]
  },
  {
   "cell_type": "code",
   "execution_count": 8,
   "metadata": {},
   "outputs": [
    {
     "data": {
      "text/plain": [
       "Index(['workclass_?', 'workclass_Federal-gov', 'workclass_Local-gov',\n",
       "       'workclass_Never-worked', 'workclass_Private', 'workclass_Self-emp-inc',\n",
       "       'workclass_Self-emp-not-inc', 'workclass_State-gov',\n",
       "       'workclass_Without-pay', 'education_10th',\n",
       "       ...\n",
       "       'native-country_Trinadad&Tobago', 'native-country_United-States',\n",
       "       'native-country_Vietnam', 'native-country_Yugoslavia', 'age', 'fnlwgt',\n",
       "       'education-num', 'capital-gain', 'capital-loss', 'hours-per-week'],\n",
       "      dtype='object', length=108)"
      ]
     },
     "execution_count": 8,
     "metadata": {},
     "output_type": "execute_result"
    }
   ],
   "source": [
    "# read the dataset\n",
    "df = pd.read_csv(\"../data/salary/processed-salary.csv\")\n",
    "h = df.columns[:-1]\n",
    "h"
   ]
  },
  {
   "cell_type": "code",
   "execution_count": 9,
   "metadata": {},
   "outputs": [],
   "source": [
    "# If train-test split is desired\n",
    "X_train = joblib.load('../data/salary/X_train.joblib')\n",
    "X_test = joblib.load('../data/salary/X_test.joblib')\n",
    "y_train = joblib.load('../data/salary/y_train.joblib')\n",
    "y_test = joblib.load('../data/salary/y_test.joblib')"
   ]
  },
  {
   "cell_type": "markdown",
   "metadata": {},
   "source": [
    "#### 1. Threshold guess: we first use the gradient boosted tree to guess useful thresholds. "
   ]
  },
  {
   "cell_type": "code",
   "execution_count": 10,
   "metadata": {},
   "outputs": [],
   "source": [
    "# GBDT parameters for threshold and lower bound guesses\n",
    "n_est = 40\n",
    "max_depth = 1"
   ]
  },
  {
   "cell_type": "code",
   "execution_count": 11,
   "metadata": {},
   "outputs": [
    {
     "name": "stdout",
     "output_type": "stream",
     "text": [
      "(26048, 14)\n",
      "(6513, 14)\n",
      "train set column names == test set column names: True\n"
     ]
    }
   ],
   "source": [
    "# guess thresholds\n",
    "X_train = pd.DataFrame(X_train, columns=h)\n",
    "X_test = pd.DataFrame(X_test, columns=h)\n",
    "X_train_guessed, thresholds, header, threshold_guess_time = compute_thresholds(X_train.copy(), y_train, n_est, max_depth)\n",
    "X_test_guessed = cut(X_test.copy(), thresholds)\n",
    "X_test_guessed = X_test_guessed[header]\n",
    "print(X_train_guessed.shape)\n",
    "print(X_test_guessed.shape)\n",
    "print(\"train set column names == test set column names: {}\".format(list(X_train_guessed.columns)==list(X_test_guessed.columns)))"
   ]
  },
  {
   "cell_type": "markdown",
   "metadata": {},
   "source": [
    "#### 2. Lower bound guess: we use the gradient boosted tree to get labels for the training dataset. "
   ]
  },
  {
   "cell_type": "code",
   "execution_count": 12,
   "metadata": {},
   "outputs": [],
   "source": [
    "# guess lower bound\n",
    "import time\n",
    "start_time = time.perf_counter()\n",
    "clf = GradientBoostingClassifier(n_estimators=n_est, max_depth=max_depth, random_state=random_state)\n",
    "clf.fit(X_train_guessed, y_train)\n",
    "warm_labels = clf.predict(X_train_guessed)\n",
    "\n",
    "elapsed_time = time.perf_counter() - start_time\n",
    "\n",
    "lb_time = elapsed_time"
   ]
  },
  {
   "cell_type": "code",
   "execution_count": 13,
   "metadata": {},
   "outputs": [],
   "source": [
    "# save the labels as a tmp file and return the path to it.\n",
    "labelsdir = pathlib.Path('./tmp/warm_lb_labels')\n",
    "labelsdir.mkdir(exist_ok=True, parents=True)\n",
    "\n",
    "labelpath = labelsdir / 'warm_label.tmp'\n",
    "labelpath = str(labelpath)\n",
    "pd.DataFrame(warm_labels).to_csv(labelpath, header=\"class_labels\",index=None) # TODO: verify this formats correctly for gosdt (shouldn't require headers)\n"
   ]
  },
  {
   "cell_type": "markdown",
   "metadata": {},
   "source": [
    "#### 3. train GOSDT model"
   ]
  },
  {
   "cell_type": "code",
   "execution_count": 14,
   "metadata": {},
   "outputs": [
    {
     "name": "stdout",
     "output_type": "stream",
     "text": [
      "gosdt reported successful execution\n",
      "training completed. 0.000/0.000/0.212 (user, system, wall), mem=0 MB\n",
      "bounds: [0.161327..0.161327] (0.000000) loss=0.156327, iterations=1635\n",
      "evaluate the model, extracting tree and scores\n"
     ]
    }
   ],
   "source": [
    "# train GOSDT model\n",
    "config = {\n",
    "            \"regularization\": 0.001,\n",
    "            \"depth_budget\": 5,\n",
    "            \"time_limit\": 60,\n",
    "            \"warm_LB\": True,\n",
    "            \"path_to_labels\": labelpath,\n",
    "            \"similar_support\": False\n",
    "        }\n",
    "\n",
    "model = GOSDT(config)\n",
    "\n",
    "model.fit(X_train_guessed, pd.DataFrame(y_train))\n",
    "\n",
    "print(\"evaluate the model, extracting tree and scores\", flush=True)"
   ]
  },
  {
   "cell_type": "markdown",
   "metadata": {},
   "source": [
    "#### 4. Get results"
   ]
  },
  {
   "cell_type": "code",
   "execution_count": 15,
   "metadata": {},
   "outputs": [
    {
     "name": "stdout",
     "output_type": "stream",
     "text": [
      "Model training time: 0.0\n",
      "Training accuracy: 0.8436732186732187\n",
      "Test accuracy: 0.8452326116996776\n",
      "# of leaves: 5\n",
      "if capital-gain<=5119.0 = 1 and capital-loss<=1820.5 = 1 and marital-status_Married-civ-spouse<=0.5 = 1 then:\n",
      "    predicted class: <=50K\n",
      "    misclassification penalty: 0.024\n",
      "    complexity penalty: 0.001\n",
      "\n",
      "else if capital-gain<=5119.0 = 1 and capital-loss<=1820.5 = 1 and education-num<=12.5 = 1 and marital-status_Married-civ-spouse<=0.5 != 1 then:\n",
      "    predicted class: <=50K\n",
      "    misclassification penalty: 0.084\n",
      "    complexity penalty: 0.001\n",
      "\n",
      "else if capital-gain<=5119.0 = 1 and capital-loss<=1820.5 = 1 and education-num<=12.5 != 1 and marital-status_Married-civ-spouse<=0.5 != 1 then:\n",
      "    predicted class: >50K\n",
      "    misclassification penalty: 0.038\n",
      "    complexity penalty: 0.001\n",
      "\n",
      "else if capital-gain<=5119.0 = 1 and capital-loss<=1820.5 != 1 then:\n",
      "    predicted class: >50K\n",
      "    misclassification penalty: 0.008\n",
      "    complexity penalty: 0.001\n",
      "\n",
      "else if capital-gain<=5119.0 != 1 then:\n",
      "    predicted class: >50K\n",
      "    misclassification penalty: 0.003\n",
      "    complexity penalty: 0.001\n"
     ]
    }
   ],
   "source": [
    "# get the results\n",
    "train_acc = model.score(X_train_guessed, y_train)\n",
    "test_acc = model.score(X_test_guessed, y_test)\n",
    "n_leaves = model.leaves()\n",
    "n_nodes = model.nodes()\n",
    "time = model.utime\n",
    "\n",
    "print(\"Model training time: {}\".format(time))\n",
    "print(\"Training accuracy: {}\".format(train_acc))\n",
    "print(\"Test accuracy: {}\".format(test_acc))\n",
    "print(\"# of leaves: {}\".format(n_leaves))\n",
    "print(model.tree)"
   ]
  },
  {
   "cell_type": "markdown",
   "metadata": {},
   "source": [
    "As you can see, we find a reasonably accurate model quite quickly on datasets as complicated as FICO!"
   ]
  },
  {
   "cell_type": "markdown",
   "metadata": {},
   "source": [
    "Thank you for reading our tutorial. Please do try out our methods with different parameters and datasets. Happy tree training!"
   ]
  }
 ],
 "metadata": {
  "kernelspec": {
   "display_name": "Python 3 (ipykernel)",
   "language": "python",
   "name": "python3"
  },
  "language_info": {
   "codemirror_mode": {
    "name": "ipython",
    "version": 3
   },
   "file_extension": ".py",
   "mimetype": "text/x-python",
   "name": "python",
   "nbconvert_exporter": "python",
   "pygments_lexer": "ipython3",
   "version": "3.10.13"
  },
  "vscode": {
   "interpreter": {
    "hash": "31f2aee4e71d21fbe5cf8b01ff0e069b9275f58929596ceb00d14d90e3e16cd6"
   }
  }
 },
 "nbformat": 4,
 "nbformat_minor": 2
}
