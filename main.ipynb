{
 "cells": [
  {
   "cell_type": "code",
   "execution_count": 1,
   "metadata": {},
   "outputs": [
    {
     "name": "stdout",
     "output_type": "stream",
     "text": [
      "['c:\\\\Users\\\\vhugo\\\\Documents\\\\Notebooks', 'c:\\\\Users\\\\vhugo\\\\anaconda3\\\\envs\\\\ML\\\\python311.zip', 'c:\\\\Users\\\\vhugo\\\\anaconda3\\\\envs\\\\ML\\\\DLLs', 'c:\\\\Users\\\\vhugo\\\\anaconda3\\\\envs\\\\ML\\\\Lib', 'c:\\\\Users\\\\vhugo\\\\anaconda3\\\\envs\\\\ML', '', 'c:\\\\Users\\\\vhugo\\\\anaconda3\\\\envs\\\\ML\\\\Lib\\\\site-packages', 'c:\\\\Users\\\\vhugo\\\\anaconda3\\\\envs\\\\ML\\\\Lib\\\\site-packages\\\\win32', 'c:\\\\Users\\\\vhugo\\\\anaconda3\\\\envs\\\\ML\\\\Lib\\\\site-packages\\\\win32\\\\lib', 'c:\\\\Users\\\\vhugo\\\\anaconda3\\\\envs\\\\ML\\\\Lib\\\\site-packages\\\\Pythonwin']\n"
     ]
    }
   ],
   "source": [
    "import sys\n",
    "\n",
    "print(sys.path)"
   ]
  }
 ],
 "metadata": {
  "kernelspec": {
   "display_name": "ML",
   "language": "python",
   "name": "python3"
  },
  "language_info": {
   "codemirror_mode": {
    "name": "ipython",
    "version": 3
   },
   "file_extension": ".py",
   "mimetype": "text/x-python",
   "name": "python",
   "nbconvert_exporter": "python",
   "pygments_lexer": "ipython3",
   "version": "3.11.5"
  },
  "orig_nbformat": 4
 },
 "nbformat": 4,
 "nbformat_minor": 2
}
